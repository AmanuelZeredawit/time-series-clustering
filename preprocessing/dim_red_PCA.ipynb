{
 "cells": [
  {
   "cell_type": "code",
   "execution_count": 1,
   "metadata": {},
   "outputs": [],
   "source": [
    "import pandas as pd\n",
    "from sklearn import decomposition, datasets\n",
    "from sklearn.preprocessing import StandardScaler\n",
    "%matplotlib inline\n",
    "import pandas as pd # for using pandas daraframe\n",
    "import numpy as np # for som math operations\n",
    "from sklearn.preprocessing import StandardScaler # for standardizing the Data\n",
    "from sklearn.decomposition import PCA # for PCA calculation\n",
    "import matplotlib.pyplot as plt # for plotting"
   ]
  },
  {
   "cell_type": "code",
   "execution_count": 2,
   "metadata": {},
   "outputs": [],
   "source": [
    "df = pd.read_csv(r'C:\\Users\\PC\\Cookies\\Desktop\\spinewise project\\059-COMBINED-2022-11-7-13-2-45-1667849080-v1.4.3+lucina-buzz.csv')"
   ]
  },
  {
   "cell_type": "code",
   "execution_count": 3,
   "metadata": {},
   "outputs": [
    {
     "data": {
      "text/html": [
       "<div>\n",
       "<style scoped>\n",
       "    .dataframe tbody tr th:only-of-type {\n",
       "        vertical-align: middle;\n",
       "    }\n",
       "\n",
       "    .dataframe tbody tr th {\n",
       "        vertical-align: top;\n",
       "    }\n",
       "\n",
       "    .dataframe thead th {\n",
       "        text-align: right;\n",
       "    }\n",
       "</style>\n",
       "<table border=\"1\" class=\"dataframe\">\n",
       "  <thead>\n",
       "    <tr style=\"text-align: right;\">\n",
       "      <th></th>\n",
       "      <th>Unnamed: 0</th>\n",
       "      <th>ts_r</th>\n",
       "      <th>acc_x_r</th>\n",
       "      <th>acc_y_r</th>\n",
       "      <th>acc_z_r</th>\n",
       "      <th>temp_r</th>\n",
       "      <th>gyr_x_r</th>\n",
       "      <th>gyr_y_r</th>\n",
       "      <th>gyr_z_r</th>\n",
       "      <th>mag_x_r</th>\n",
       "      <th>...</th>\n",
       "      <th>temp_n</th>\n",
       "      <th>gyr_x_n</th>\n",
       "      <th>gyr_y_n</th>\n",
       "      <th>gyr_z_n</th>\n",
       "      <th>mag_x_n</th>\n",
       "      <th>mag_y_n</th>\n",
       "      <th>mag_z_n</th>\n",
       "      <th>kal_status_n</th>\n",
       "      <th>alpha_n</th>\n",
       "      <th>beta_n</th>\n",
       "    </tr>\n",
       "  </thead>\n",
       "  <tbody>\n",
       "    <tr>\n",
       "      <th>0</th>\n",
       "      <td>0</td>\n",
       "      <td>77028.0</td>\n",
       "      <td>0.976074</td>\n",
       "      <td>-0.250977</td>\n",
       "      <td>-0.122070</td>\n",
       "      <td>3952.0</td>\n",
       "      <td>-0.640869</td>\n",
       "      <td>1.556396</td>\n",
       "      <td>-0.213623</td>\n",
       "      <td>-6.0</td>\n",
       "      <td>...</td>\n",
       "      <td>3728.0</td>\n",
       "      <td>-1.892090</td>\n",
       "      <td>0.091553</td>\n",
       "      <td>0.366211</td>\n",
       "      <td>6248.0</td>\n",
       "      <td>-6246.0</td>\n",
       "      <td>-10420.0</td>\n",
       "      <td>0.0</td>\n",
       "      <td>-705.0</td>\n",
       "      <td>1792.0</td>\n",
       "    </tr>\n",
       "    <tr>\n",
       "      <th>1</th>\n",
       "      <td>1</td>\n",
       "      <td>77029.0</td>\n",
       "      <td>0.973145</td>\n",
       "      <td>-0.246826</td>\n",
       "      <td>-0.119873</td>\n",
       "      <td>3936.0</td>\n",
       "      <td>-0.457764</td>\n",
       "      <td>1.464844</td>\n",
       "      <td>0.061035</td>\n",
       "      <td>-6.0</td>\n",
       "      <td>...</td>\n",
       "      <td>3776.0</td>\n",
       "      <td>-1.617432</td>\n",
       "      <td>0.061035</td>\n",
       "      <td>0.488281</td>\n",
       "      <td>6237.0</td>\n",
       "      <td>-6316.0</td>\n",
       "      <td>-10856.0</td>\n",
       "      <td>0.0</td>\n",
       "      <td>-705.0</td>\n",
       "      <td>1792.0</td>\n",
       "    </tr>\n",
       "    <tr>\n",
       "      <th>2</th>\n",
       "      <td>2</td>\n",
       "      <td>77030.0</td>\n",
       "      <td>0.976562</td>\n",
       "      <td>-0.247559</td>\n",
       "      <td>-0.127441</td>\n",
       "      <td>4080.0</td>\n",
       "      <td>-0.091553</td>\n",
       "      <td>1.556396</td>\n",
       "      <td>0.152588</td>\n",
       "      <td>11144.0</td>\n",
       "      <td>...</td>\n",
       "      <td>3760.0</td>\n",
       "      <td>-1.708984</td>\n",
       "      <td>-0.244141</td>\n",
       "      <td>0.946045</td>\n",
       "      <td>6237.0</td>\n",
       "      <td>-6316.0</td>\n",
       "      <td>-10856.0</td>\n",
       "      <td>0.0</td>\n",
       "      <td>-705.0</td>\n",
       "      <td>1792.0</td>\n",
       "    </tr>\n",
       "    <tr>\n",
       "      <th>3</th>\n",
       "      <td>3</td>\n",
       "      <td>77031.0</td>\n",
       "      <td>0.973633</td>\n",
       "      <td>-0.248291</td>\n",
       "      <td>-0.121582</td>\n",
       "      <td>3968.0</td>\n",
       "      <td>0.305176</td>\n",
       "      <td>1.586914</td>\n",
       "      <td>0.030518</td>\n",
       "      <td>11144.0</td>\n",
       "      <td>...</td>\n",
       "      <td>3696.0</td>\n",
       "      <td>-1.617432</td>\n",
       "      <td>-0.030518</td>\n",
       "      <td>0.518799</td>\n",
       "      <td>6237.0</td>\n",
       "      <td>-6243.0</td>\n",
       "      <td>-10409.0</td>\n",
       "      <td>0.0</td>\n",
       "      <td>-705.0</td>\n",
       "      <td>1792.0</td>\n",
       "    </tr>\n",
       "    <tr>\n",
       "      <th>4</th>\n",
       "      <td>4</td>\n",
       "      <td>77032.0</td>\n",
       "      <td>0.973145</td>\n",
       "      <td>-0.251221</td>\n",
       "      <td>-0.125244</td>\n",
       "      <td>3968.0</td>\n",
       "      <td>-0.244141</td>\n",
       "      <td>1.495361</td>\n",
       "      <td>-0.274658</td>\n",
       "      <td>11139.0</td>\n",
       "      <td>...</td>\n",
       "      <td>3824.0</td>\n",
       "      <td>-1.342773</td>\n",
       "      <td>-0.335693</td>\n",
       "      <td>0.427246</td>\n",
       "      <td>6237.0</td>\n",
       "      <td>-6243.0</td>\n",
       "      <td>-10409.0</td>\n",
       "      <td>0.0</td>\n",
       "      <td>-705.0</td>\n",
       "      <td>1792.0</td>\n",
       "    </tr>\n",
       "  </tbody>\n",
       "</table>\n",
       "<p>5 rows × 29 columns</p>\n",
       "</div>"
      ],
      "text/plain": [
       "   Unnamed: 0     ts_r   acc_x_r   acc_y_r   acc_z_r  temp_r   gyr_x_r  \\\n",
       "0           0  77028.0  0.976074 -0.250977 -0.122070  3952.0 -0.640869   \n",
       "1           1  77029.0  0.973145 -0.246826 -0.119873  3936.0 -0.457764   \n",
       "2           2  77030.0  0.976562 -0.247559 -0.127441  4080.0 -0.091553   \n",
       "3           3  77031.0  0.973633 -0.248291 -0.121582  3968.0  0.305176   \n",
       "4           4  77032.0  0.973145 -0.251221 -0.125244  3968.0 -0.244141   \n",
       "\n",
       "    gyr_y_r   gyr_z_r  mag_x_r  ...  temp_n   gyr_x_n   gyr_y_n   gyr_z_n  \\\n",
       "0  1.556396 -0.213623     -6.0  ...  3728.0 -1.892090  0.091553  0.366211   \n",
       "1  1.464844  0.061035     -6.0  ...  3776.0 -1.617432  0.061035  0.488281   \n",
       "2  1.556396  0.152588  11144.0  ...  3760.0 -1.708984 -0.244141  0.946045   \n",
       "3  1.586914  0.030518  11144.0  ...  3696.0 -1.617432 -0.030518  0.518799   \n",
       "4  1.495361 -0.274658  11139.0  ...  3824.0 -1.342773 -0.335693  0.427246   \n",
       "\n",
       "   mag_x_n  mag_y_n  mag_z_n  kal_status_n  alpha_n  beta_n  \n",
       "0   6248.0  -6246.0 -10420.0           0.0   -705.0  1792.0  \n",
       "1   6237.0  -6316.0 -10856.0           0.0   -705.0  1792.0  \n",
       "2   6237.0  -6316.0 -10856.0           0.0   -705.0  1792.0  \n",
       "3   6237.0  -6243.0 -10409.0           0.0   -705.0  1792.0  \n",
       "4   6237.0  -6243.0 -10409.0           0.0   -705.0  1792.0  \n",
       "\n",
       "[5 rows x 29 columns]"
      ]
     },
     "execution_count": 3,
     "metadata": {},
     "output_type": "execute_result"
    }
   ],
   "source": [
    "df.head()"
   ]
  },
  {
   "cell_type": "code",
   "execution_count": 4,
   "metadata": {},
   "outputs": [
    {
     "data": {
      "text/plain": [
       "(176916, 29)"
      ]
     },
     "execution_count": 4,
     "metadata": {},
     "output_type": "execute_result"
    }
   ],
   "source": [
    "df.shape"
   ]
  },
  {
   "cell_type": "code",
   "execution_count": 5,
   "metadata": {},
   "outputs": [
    {
     "data": {
      "text/plain": [
       "0            0.0\n",
       "1            0.0\n",
       "2            0.0\n",
       "3            0.0\n",
       "4            0.0\n",
       "           ...  \n",
       "176911    1727.0\n",
       "176912    1727.0\n",
       "176913    1727.0\n",
       "176914    1727.0\n",
       "176915    1727.0\n",
       "Name: difference_r, Length: 176916, dtype: float64"
      ]
     },
     "execution_count": 5,
     "metadata": {},
     "output_type": "execute_result"
    }
   ],
   "source": [
    "df['difference_r'] = df['beta_r'] - df['alpha_r']\n",
    "df['difference_r']"
   ]
  },
  {
   "cell_type": "code",
   "execution_count": 6,
   "metadata": {},
   "outputs": [
    {
     "data": {
      "text/plain": [
       "0         2497.0\n",
       "1         2497.0\n",
       "2         2497.0\n",
       "3         2497.0\n",
       "4         2497.0\n",
       "           ...  \n",
       "176911    2497.0\n",
       "176912    2497.0\n",
       "176913    2497.0\n",
       "176914    2497.0\n",
       "176915    2497.0\n",
       "Name: difference_n, Length: 176916, dtype: float64"
      ]
     },
     "execution_count": 6,
     "metadata": {},
     "output_type": "execute_result"
    }
   ],
   "source": [
    "df['difference_n'] = df['beta_n'] - df['alpha_n']\n",
    "df['difference_n']"
   ]
  },
  {
   "cell_type": "code",
   "execution_count": 7,
   "metadata": {},
   "outputs": [
    {
     "data": {
      "text/plain": [
       "(176916, 31)"
      ]
     },
     "execution_count": 7,
     "metadata": {},
     "output_type": "execute_result"
    }
   ],
   "source": [
    "df.shape"
   ]
  },
  {
   "cell_type": "code",
   "execution_count": 8,
   "metadata": {},
   "outputs": [
    {
     "data": {
      "text/plain": [
       "<AxesSubplot:xlabel='ts_r'>"
      ]
     },
     "execution_count": 8,
     "metadata": {},
     "output_type": "execute_result"
    },
    {
     "data": {
      "image/png": "[encoded data removed]",
      "text/plain": [
       "<Figure size 900x800 with 1 Axes>"
      ]
     },
     "metadata": {},
     "output_type": "display_data"
    }
   ],
   "source": [
    "df.plot(x=\"ts_r\", y=[\"difference_r\"], kind=\"line\", figsize=(9, 8))"
   ]
  },
  {
   "cell_type": "code",
   "execution_count": 9,
   "metadata": {},
   "outputs": [],
   "source": [
    "df = df.drop(['alpha_r','beta_r','alpha_n','beta_n','ts_r','Unnamed: 0'], axis=1)"
   ]
  },
  {
   "cell_type": "code",
   "execution_count": 10,
   "metadata": {},
   "outputs": [],
   "source": [
    "df.dropna(how=\"any\", inplace=True)"
   ]
  },
  {
   "cell_type": "code",
   "execution_count": 11,
   "metadata": {},
   "outputs": [
    {
     "data": {
      "text/plain": [
       "(176916, 25)"
      ]
     },
     "execution_count": 11,
     "metadata": {},
     "output_type": "execute_result"
    }
   ],
   "source": [
    "df.shape"
   ]
  },
  {
   "cell_type": "code",
   "execution_count": 12,
   "metadata": {},
   "outputs": [],
   "source": [
    "#print(df1.columns)"
   ]
  },
  {
   "cell_type": "code",
   "execution_count": 13,
   "metadata": {},
   "outputs": [],
   "source": [
    "#df1.shape"
   ]
  },
  {
   "cell_type": "code",
   "execution_count": 14,
   "metadata": {},
   "outputs": [
    {
     "name": "stdout",
     "output_type": "stream",
     "text": [
      "(176916, 25)\n",
      "[[ 0.33124808 -0.54784566 -0.24357667 ... -1.72421088 -0.44594794\n",
      "   0.        ]\n",
      " [ 0.32284056 -0.53204386 -0.23792096 ... -1.72421088 -0.44594794\n",
      "   0.        ]\n",
      " [ 0.33264933 -0.53483241 -0.25740175 ... -1.72421088 -0.44594794\n",
      "   0.        ]\n",
      " ...\n",
      " [ 0.50290163 -0.2959463  -0.54772835 ...  1.78091472 -0.27641772\n",
      "   0.        ]\n",
      " [ 0.50079975 -0.22995052 -0.35103522 ...  1.78091472 -0.27641772\n",
      "   0.        ]\n",
      " [ 0.350165    0.42628915 -0.50688154 ...  1.78091472 -0.27641772\n",
      "   0.        ]]\n"
     ]
    }
   ],
   "source": [
    "std_slc = StandardScaler()\n",
    "df_std = std_slc.fit_transform(df)\n",
    "\n",
    "print(df_std.shape)\n",
    "print(df_std)"
   ]
  },
  {
   "cell_type": "code",
   "execution_count": 15,
   "metadata": {},
   "outputs": [],
   "source": [
    "#df_std = df_std.dropna"
   ]
  },
  {
   "cell_type": "code",
   "execution_count": 16,
   "metadata": {},
   "outputs": [],
   "source": [
    "pca = PCA()\n",
    "df_pca = pca.fit(df_std)"
   ]
  },
  {
   "cell_type": "code",
   "execution_count": 19,
   "metadata": {},
   "outputs": [
    {
     "data": {
      "image/png": "[encoded data removed]",
      "text/plain": [
       "<Figure size 640x480 with 1 Axes>"
      ]
     },
     "metadata": {},
     "output_type": "display_data"
    }
   ],
   "source": [
    "plt.plot(np.cumsum(pca.explained_variance_ratio_))\n",
    "plt.xlabel('number of components')\n",
    "plt.ylabel('cumulative explained variance');"
   ]
  },
  {
   "cell_type": "code",
   "execution_count": 20,
   "metadata": {},
   "outputs": [
    {
     "name": "stdout",
     "output_type": "stream",
     "text": [
      "(176916, 12)\n",
      "[[ 1.21282316  1.42709415  0.19881966 ...  0.78011497 -2.0835132\n",
      "   1.51939431]\n",
      " [ 1.2193834   1.51431343  0.1810747  ...  0.87917865 -2.05125015\n",
      "   1.49616543]\n",
      " [-0.18212666 -0.11585564  0.12945662 ...  0.90659852 -0.37485591\n",
      "  -0.39753644]\n",
      " ...\n",
      " [ 0.56981574  0.33378363  0.70311017 ...  1.63534431  0.33694115\n",
      "  -0.74144404]\n",
      " [ 0.66805599  0.32167076  0.61919651 ...  1.58575697  0.41361932\n",
      "  -0.66895643]\n",
      " [ 0.69408753  0.14527243  0.62566647 ...  2.04014783  0.43276548\n",
      "  -0.13539489]]\n"
     ]
    }
   ],
   "source": [
    "pca = decomposition.PCA(n_components=12)\n",
    "df_std_pca = pca.fit_transform(df_std)\n",
    "\n",
    "print(df_std_pca.shape)\n",
    "print(df_std_pca)"
   ]
  },
  {
   "cell_type": "code",
   "execution_count": 29,
   "metadata": {},
   "outputs": [],
   "source": [
    "df1 = pd.DataFrame(pca.components_, columns = df.columns)"
   ]
  },
  {
   "cell_type": "code",
   "execution_count": 25,
   "metadata": {},
   "outputs": [],
   "source": [
    "n_pcs= pca.n_components_ # get number of component\n",
    "# get the index of the most important feature on EACH component\n",
    "most_important = [np.abs(pca.components_[i]).argmax() for i in range(n_pcs)]\n",
    "initial_feature_names = df.columns\n",
    "# get the most important feature names\n",
    "most_important_names = [initial_feature_names[most_important[i]] for i in range(n_pcs)]"
   ]
  },
  {
   "cell_type": "code",
   "execution_count": 26,
   "metadata": {},
   "outputs": [
    {
     "name": "stdout",
     "output_type": "stream",
     "text": [
      "['acc_z_r', 'acc_x_n', 'gyr_x_r', 'temp_r', 'acc_y_r', 'gyr_z_r', 'gyr_z_r', 'mag_x_r', 'gyr_y_r', 'acc_y_r', 'acc_y_n', 'gyr_y_n']\n"
     ]
    }
   ],
   "source": [
    "print(most_important_names)"
   ]
  },
  {
   "cell_type": "code",
   "execution_count": 31,
   "metadata": {},
   "outputs": [
    {
     "data": {
      "text/html": [
       "<div>\n",
       "<style scoped>\n",
       "    .dataframe tbody tr th:only-of-type {\n",
       "        vertical-align: middle;\n",
       "    }\n",
       "\n",
       "    .dataframe tbody tr th {\n",
       "        vertical-align: top;\n",
       "    }\n",
       "\n",
       "    .dataframe thead th {\n",
       "        text-align: right;\n",
       "    }\n",
       "</style>\n",
       "<table border=\"1\" class=\"dataframe\">\n",
       "  <thead>\n",
       "    <tr style=\"text-align: right;\">\n",
       "      <th></th>\n",
       "      <th>acc_z_r</th>\n",
       "      <th>acc_x_n</th>\n",
       "      <th>gyr_x_r</th>\n",
       "      <th>temp_r</th>\n",
       "      <th>acc_y_r</th>\n",
       "      <th>gyr_z_r</th>\n",
       "      <th>gyr_z_r</th>\n",
       "      <th>mag_x_r</th>\n",
       "      <th>gyr_y_r</th>\n",
       "      <th>acc_y_r</th>\n",
       "      <th>acc_y_n</th>\n",
       "      <th>gyr_y_n</th>\n",
       "    </tr>\n",
       "  </thead>\n",
       "  <tbody>\n",
       "    <tr>\n",
       "      <th>0</th>\n",
       "      <td>1.212823</td>\n",
       "      <td>1.427094</td>\n",
       "      <td>0.198820</td>\n",
       "      <td>3.935011</td>\n",
       "      <td>-0.413664</td>\n",
       "      <td>2.927896</td>\n",
       "      <td>1.854762</td>\n",
       "      <td>-6.327420</td>\n",
       "      <td>0.789781</td>\n",
       "      <td>0.780115</td>\n",
       "      <td>-2.083513</td>\n",
       "      <td>1.519394</td>\n",
       "    </tr>\n",
       "    <tr>\n",
       "      <th>1</th>\n",
       "      <td>1.219383</td>\n",
       "      <td>1.514313</td>\n",
       "      <td>0.181075</td>\n",
       "      <td>3.991273</td>\n",
       "      <td>-0.348266</td>\n",
       "      <td>2.847541</td>\n",
       "      <td>1.816450</td>\n",
       "      <td>-6.310261</td>\n",
       "      <td>0.796234</td>\n",
       "      <td>0.879179</td>\n",
       "      <td>-2.051250</td>\n",
       "      <td>1.496165</td>\n",
       "    </tr>\n",
       "    <tr>\n",
       "      <th>2</th>\n",
       "      <td>-0.182127</td>\n",
       "      <td>-0.115856</td>\n",
       "      <td>0.129457</td>\n",
       "      <td>4.810586</td>\n",
       "      <td>2.557829</td>\n",
       "      <td>-1.094797</td>\n",
       "      <td>-0.765566</td>\n",
       "      <td>1.025790</td>\n",
       "      <td>-0.173663</td>\n",
       "      <td>0.906599</td>\n",
       "      <td>-0.374856</td>\n",
       "      <td>-0.397536</td>\n",
       "    </tr>\n",
       "    <tr>\n",
       "      <th>3</th>\n",
       "      <td>-0.212947</td>\n",
       "      <td>-0.211049</td>\n",
       "      <td>0.120686</td>\n",
       "      <td>4.625707</td>\n",
       "      <td>2.457695</td>\n",
       "      <td>-1.040348</td>\n",
       "      <td>-0.743991</td>\n",
       "      <td>0.989200</td>\n",
       "      <td>-0.182450</td>\n",
       "      <td>0.795408</td>\n",
       "      <td>-0.475225</td>\n",
       "      <td>-0.411121</td>\n",
       "    </tr>\n",
       "    <tr>\n",
       "      <th>4</th>\n",
       "      <td>-0.147539</td>\n",
       "      <td>-0.215684</td>\n",
       "      <td>0.127913</td>\n",
       "      <td>4.765059</td>\n",
       "      <td>2.504705</td>\n",
       "      <td>-0.991201</td>\n",
       "      <td>-0.723866</td>\n",
       "      <td>1.019384</td>\n",
       "      <td>-0.177768</td>\n",
       "      <td>0.820116</td>\n",
       "      <td>-0.374170</td>\n",
       "      <td>-0.362763</td>\n",
       "    </tr>\n",
       "    <tr>\n",
       "      <th>...</th>\n",
       "      <td>...</td>\n",
       "      <td>...</td>\n",
       "      <td>...</td>\n",
       "      <td>...</td>\n",
       "      <td>...</td>\n",
       "      <td>...</td>\n",
       "      <td>...</td>\n",
       "      <td>...</td>\n",
       "      <td>...</td>\n",
       "      <td>...</td>\n",
       "      <td>...</td>\n",
       "      <td>...</td>\n",
       "    </tr>\n",
       "    <tr>\n",
       "      <th>176911</th>\n",
       "      <td>0.708263</td>\n",
       "      <td>0.421069</td>\n",
       "      <td>0.829139</td>\n",
       "      <td>-1.089190</td>\n",
       "      <td>1.811353</td>\n",
       "      <td>0.142071</td>\n",
       "      <td>0.572285</td>\n",
       "      <td>1.392893</td>\n",
       "      <td>0.190337</td>\n",
       "      <td>1.842351</td>\n",
       "      <td>0.408436</td>\n",
       "      <td>-0.260752</td>\n",
       "    </tr>\n",
       "    <tr>\n",
       "      <th>176912</th>\n",
       "      <td>0.693661</td>\n",
       "      <td>0.356795</td>\n",
       "      <td>0.999093</td>\n",
       "      <td>-1.159050</td>\n",
       "      <td>2.010527</td>\n",
       "      <td>0.404178</td>\n",
       "      <td>0.375178</td>\n",
       "      <td>1.297957</td>\n",
       "      <td>0.131303</td>\n",
       "      <td>1.709945</td>\n",
       "      <td>0.314433</td>\n",
       "      <td>-0.477947</td>\n",
       "    </tr>\n",
       "    <tr>\n",
       "      <th>176913</th>\n",
       "      <td>0.569816</td>\n",
       "      <td>0.333784</td>\n",
       "      <td>0.703110</td>\n",
       "      <td>-1.264429</td>\n",
       "      <td>1.984498</td>\n",
       "      <td>0.658703</td>\n",
       "      <td>-0.165818</td>\n",
       "      <td>1.249213</td>\n",
       "      <td>0.388454</td>\n",
       "      <td>1.635344</td>\n",
       "      <td>0.336941</td>\n",
       "      <td>-0.741444</td>\n",
       "    </tr>\n",
       "    <tr>\n",
       "      <th>176914</th>\n",
       "      <td>0.668056</td>\n",
       "      <td>0.321671</td>\n",
       "      <td>0.619197</td>\n",
       "      <td>-1.221505</td>\n",
       "      <td>2.028882</td>\n",
       "      <td>0.632240</td>\n",
       "      <td>-0.233079</td>\n",
       "      <td>1.124000</td>\n",
       "      <td>0.989410</td>\n",
       "      <td>1.585757</td>\n",
       "      <td>0.413619</td>\n",
       "      <td>-0.668956</td>\n",
       "    </tr>\n",
       "    <tr>\n",
       "      <th>176915</th>\n",
       "      <td>0.694088</td>\n",
       "      <td>0.145272</td>\n",
       "      <td>0.625666</td>\n",
       "      <td>-1.102386</td>\n",
       "      <td>1.783854</td>\n",
       "      <td>0.278871</td>\n",
       "      <td>-0.109220</td>\n",
       "      <td>1.028859</td>\n",
       "      <td>0.338402</td>\n",
       "      <td>2.040148</td>\n",
       "      <td>0.432765</td>\n",
       "      <td>-0.135395</td>\n",
       "    </tr>\n",
       "  </tbody>\n",
       "</table>\n",
       "<p>176916 rows × 12 columns</p>\n",
       "</div>"
      ],
      "text/plain": [
       "         acc_z_r   acc_x_n   gyr_x_r    temp_r   acc_y_r   gyr_z_r   gyr_z_r  \\\n",
       "0       1.212823  1.427094  0.198820  3.935011 -0.413664  2.927896  1.854762   \n",
       "1       1.219383  1.514313  0.181075  3.991273 -0.348266  2.847541  1.816450   \n",
       "2      -0.182127 -0.115856  0.129457  4.810586  2.557829 -1.094797 -0.765566   \n",
       "3      -0.212947 -0.211049  0.120686  4.625707  2.457695 -1.040348 -0.743991   \n",
       "4      -0.147539 -0.215684  0.127913  4.765059  2.504705 -0.991201 -0.723866   \n",
       "...          ...       ...       ...       ...       ...       ...       ...   \n",
       "176911  0.708263  0.421069  0.829139 -1.089190  1.811353  0.142071  0.572285   \n",
       "176912  0.693661  0.356795  0.999093 -1.159050  2.010527  0.404178  0.375178   \n",
       "176913  0.569816  0.333784  0.703110 -1.264429  1.984498  0.658703 -0.165818   \n",
       "176914  0.668056  0.321671  0.619197 -1.221505  2.028882  0.632240 -0.233079   \n",
       "176915  0.694088  0.145272  0.625666 -1.102386  1.783854  0.278871 -0.109220   \n",
       "\n",
       "         mag_x_r   gyr_y_r   acc_y_r   acc_y_n   gyr_y_n  \n",
       "0      -6.327420  0.789781  0.780115 -2.083513  1.519394  \n",
       "1      -6.310261  0.796234  0.879179 -2.051250  1.496165  \n",
       "2       1.025790 -0.173663  0.906599 -0.374856 -0.397536  \n",
       "3       0.989200 -0.182450  0.795408 -0.475225 -0.411121  \n",
       "4       1.019384 -0.177768  0.820116 -0.374170 -0.362763  \n",
       "...          ...       ...       ...       ...       ...  \n",
       "176911  1.392893  0.190337  1.842351  0.408436 -0.260752  \n",
       "176912  1.297957  0.131303  1.709945  0.314433 -0.477947  \n",
       "176913  1.249213  0.388454  1.635344  0.336941 -0.741444  \n",
       "176914  1.124000  0.989410  1.585757  0.413619 -0.668956  \n",
       "176915  1.028859  0.338402  2.040148  0.432765 -0.135395  \n",
       "\n",
       "[176916 rows x 12 columns]"
      ]
     },
     "execution_count": 31,
     "metadata": {},
     "output_type": "execute_result"
    }
   ],
   "source": [
    "df1= pd.DataFrame(df_std_pca, columns = most_important_names)\n",
    "df1"
   ]
  },
  {
   "cell_type": "code",
   "execution_count": 32,
   "metadata": {},
   "outputs": [
    {
     "name": "stdout",
     "output_type": "stream",
     "text": [
      "         acc_z_r   acc_x_n   gyr_x_r    temp_r   acc_y_r   gyr_z_r   gyr_z_r  \\\n",
      "0       1.212823  1.427094  0.198820  3.935011 -0.413664  2.927896  1.854762   \n",
      "1       1.219383  1.514313  0.181075  3.991273 -0.348266  2.847541  1.816450   \n",
      "2      -0.182127 -0.115856  0.129457  4.810586  2.557829 -1.094797 -0.765566   \n",
      "3      -0.212947 -0.211049  0.120686  4.625707  2.457695 -1.040348 -0.743991   \n",
      "4      -0.147539 -0.215684  0.127913  4.765059  2.504705 -0.991201 -0.723866   \n",
      "...          ...       ...       ...       ...       ...       ...       ...   \n",
      "176911  0.708263  0.421069  0.829139 -1.089190  1.811353  0.142071  0.572285   \n",
      "176912  0.693661  0.356795  0.999093 -1.159050  2.010527  0.404178  0.375178   \n",
      "176913  0.569816  0.333784  0.703110 -1.264429  1.984498  0.658703 -0.165818   \n",
      "176914  0.668056  0.321671  0.619197 -1.221505  2.028882  0.632240 -0.233079   \n",
      "176915  0.694088  0.145272  0.625666 -1.102386  1.783854  0.278871 -0.109220   \n",
      "\n",
      "         mag_x_r   gyr_y_r   acc_y_r   acc_y_n   gyr_y_n  \n",
      "0      -6.327420  0.789781  0.780115 -2.083513  1.519394  \n",
      "1      -6.310261  0.796234  0.879179 -2.051250  1.496165  \n",
      "2       1.025790 -0.173663  0.906599 -0.374856 -0.397536  \n",
      "3       0.989200 -0.182450  0.795408 -0.475225 -0.411121  \n",
      "4       1.019384 -0.177768  0.820116 -0.374170 -0.362763  \n",
      "...          ...       ...       ...       ...       ...  \n",
      "176911  1.392893  0.190337  1.842351  0.408436 -0.260752  \n",
      "176912  1.297957  0.131303  1.709945  0.314433 -0.477947  \n",
      "176913  1.249213  0.388454  1.635344  0.336941 -0.741444  \n",
      "176914  1.124000  0.989410  1.585757  0.413619 -0.668956  \n",
      "176915  1.028859  0.338402  2.040148  0.432765 -0.135395  \n",
      "\n",
      "[176916 rows x 12 columns]\n"
     ]
    }
   ],
   "source": [
    "df2 = df1.rolling(window=25).mean()\n",
    "print(df1)"
   ]
  },
  {
   "cell_type": "code",
   "execution_count": null,
   "metadata": {},
   "outputs": [],
   "source": []
  },
  {
   "cell_type": "code",
   "execution_count": null,
   "metadata": {},
   "outputs": [],
   "source": []
  }
 ],
 "metadata": {
  "kernelspec": {
   "display_name": "myenv",
   "language": "python",
   "name": "python3"
  },
  "language_info": {
   "codemirror_mode": {
    "name": "ipython",
    "version": 3
   },
   "file_extension": ".py",
   "mimetype": "text/x-python",
   "name": "python",
   "nbconvert_exporter": "python",
   "pygments_lexer": "ipython3",
   "version": "3.10.8"
  },
  "orig_nbformat": 4,
  "vscode": {
   "interpreter": {
    "hash": "b5df138a7e4147c629cb640e0df293e1a19be350616532fed2d54952a62a127a"
   }
  }
 },
 "nbformat": 4,
 "nbformat_minor": 2
}
