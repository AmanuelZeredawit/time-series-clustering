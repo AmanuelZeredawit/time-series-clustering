{
 "cells": [
  {
   "cell_type": "code",
   "execution_count": null,
   "metadata": {},
   "outputs": [],
   "source": [
    "\n",
    "# import libraries\n",
    "import numpy as np\n",
    "import pandas as pd\n",
    "import seaborn as sns\n",
    "import matplotlib.pyplot as plt\n",
    "from sklearn.cluster import KMeans\n",
    "import plotly.express as px\n",
    "from pywt import wavedec\n",
    "from pywt import waverec\n",
    "from scipy.signal import hilbert\n",
    "from sklearn.cluster import KMeans\n",
    "from sklearn.decomposition import PCA\n",
    "from pywt import *\n",
    "import sys\n",
    "\n"
   ]
  },
  {
   "cell_type": "code",
   "execution_count": null,
   "metadata": {},
   "outputs": [],
   "source": [
    "sys.path.insert(0, \"D:\\Arai4_Projects\\spinwise_project\\spinewise_amanuel\\ML_Project\\preprocessing\")"
   ]
  },
  {
   "cell_type": "code",
   "execution_count": null,
   "metadata": {},
   "outputs": [],
   "source": [
    "# import modules\n",
    "from filter import apply_hilbert_filter\n",
    "from filter import apply_haar_filter\n",
    "from pca import apply_pca\n",
    "from pca import determine_n_clusters\n",
    "from segmentation import apply_segemntation\n",
    "from sax import apply_symbolic_aggregation\n",
    "from viz import viz_data\n",
    "from viz import viz_output\n",
    "from viz import viz_bar\n",
    "from viz import viz_score\n",
    "from get_data import load_file\n",
    "from model import kmeans\n",
    "from model import db_scan\n",
    "from Single_File_SAX import single_df_SAX  \n",
    "\n",
    "\n",
    "\n",
    "\n"
   ]
  },
  {
   "cell_type": "code",
   "execution_count": null,
   "metadata": {},
   "outputs": [],
   "source": [
    "l = [*range(2,10)]\n",
    "l"
   ]
  },
  {
   "cell_type": "code",
   "execution_count": null,
   "metadata": {},
   "outputs": [],
   "source": [
    "len(l)"
   ]
  },
  {
   "cell_type": "code",
   "execution_count": null,
   "metadata": {},
   "outputs": [],
   "source": [
    "def start_cluster(file_type, file_name, features, preprocesses, model, number_cluster, y):\n",
    "    \"\"\" initiate clustering \"\"\"\n",
    "    \n",
    "    print(\"++++++++++ clustering initiated ++++++++++++++\")\n",
    "    print(f\"file type : {file_type}\")\n",
    "    print(f\"file name: {file_name}\")\n",
    "    print(f\"features selected: {features}\")\n",
    "    print(f\"Preprocessors selected: {preprocesses}\")\n",
    "    print(f\"model selected: {model}\")\n",
    "\n",
    "\n",
    "    data = load_file(file_name, file_type)\n",
    "    print(\"+++++++++++++++ data loaded +++++++++++++++++\")\n",
    "    print(f\"size of data: {data.shape}\")\n",
    "    features_copy = features.copy()\n",
    "    data_copy = data.copy()\n",
    "\n",
    "    features_copy.append('ts_n')\n",
    "    data = data[features_copy]\n",
    "    viz_data(data,features, \"Selected features vs time\")\n",
    "\n",
    "    global cluster\n",
    "\n",
    "    for  preprocess in preprocesses:\n",
    "\n",
    "        if preprocess == \"filter\":\n",
    "            data, features = apply_hilbert_filter(data,features)\n",
    "            print(\"+++++++++ hilbert_filters applied +++++++++++++++\")\n",
    "            viz_data(data, features,'Output of Hilbert Filter')\n",
    "\n",
    "            data, features = apply_haar_filter(data, features)\n",
    "            print(\"+++++++++ haar_filters applied +++++++++++++++\")\n",
    "            viz_data(data, features,'Output of Haar Filter')\n",
    "\n",
    "        elif preprocess == \"sax\":\n",
    "            data, features = single_df_SAX(data, features)\n",
    "            print(\"+++++++++ symbolic aggregation applied ++++++++\")\n",
    "            viz_output(data,\"SAX_vector\",\"Output of SAX\", y)\n",
    "\n",
    "        elif preprocess == \"segementation\":\n",
    "            continue\n",
    "\n",
    "        elif preprocess == \"pca\":\n",
    "            data, features = apply_pca(data,features, 2)\n",
    "            print(\"++++++++++++++ pca applied ++++++++++++++++++++\")\n",
    "            viz_data(data, features,'Output of PCA')\n",
    "\n",
    "        else:\n",
    "            continue\n",
    "\n",
    "    data_k = determine_n_clusters(data,features)\n",
    "    print(data_k.head())\n",
    "    viz_score(data_k, \"Silhouette Score vs k \")\n",
    "\n",
    "    if model == \"k_means\":\n",
    "        cluster = kmeans(data[features], number_cluster)\n",
    "        print(\"+++++++++++++ kmeans cluster trained ++++++++++\")\n",
    "\n",
    "    elif model == \"db_scan\":\n",
    "        cluster = db_scan(data[features], number_cluster)\n",
    "        print(\"++++++++++++ db_scan cluster trained ++++++++++\")\n",
    "\n",
    "    data['cluster'] = cluster.labels_\n",
    "    return data, data_copy\n"
   ]
  },
  {
   "cell_type": "code",
   "execution_count": null,
   "metadata": {},
   "outputs": [],
   "source": [
    "def user_input(file_type, file_name,features, preprocesses, model, number_cluster, y):\n",
    "    \"\"\"take input from a user\n",
    "    \"\"\"  \n",
    "\n",
    "    data,data_copy = start_cluster(file_type, file_name, features, preprocesses, model, number_cluster,y)\n",
    "    viz_output(data,'cluster','Output of Clusterng', y)\n",
    "    \n",
    "    if file_type == \"labeled\":\n",
    "        viz_output(data_copy,'label','Labeled Clusters',y)\n",
    "        data['label'] = data_copy['label']\n",
    "        viz_bar(data, 'Clusters vs Labels')\n",
    "\n",
    "\n",
    "    return data\n",
    "\n"
   ]
  },
  {
   "cell_type": "code",
   "execution_count": null,
   "metadata": {},
   "outputs": [],
   "source": [
    "# user input 1\n",
    "file_type = 'labeled' \n",
    "file_name = 'AW01-HBS-COMBINED-2022-11-8-14-16-48-1667918184-v1.4.3+lucina-buzz.csv'\n",
    "features = ['acc_x_n','acc_y_n','acc_z_n']\n",
    "y = 'acc_x_n'\n",
    "preprocesses = ['filter','sax'] # write in order\n",
    "model = 'db_scan'\n",
    "number_cluster = 5\n",
    "data= user_input(file_type, file_name,features, preprocesses, model, number_cluster,y)\n",
    "data.head()\n"
   ]
  },
  {
   "cell_type": "code",
   "execution_count": null,
   "metadata": {},
   "outputs": [],
   "source": [
    "# user input 2\n",
    "file_type = 'labeled' \n",
    "file_name = 'AW01-HBS-COMBINED-2022-11-8-14-16-48-1667918184-v1.4.3+lucina-buzz.csv'\n",
    "features = ['gyr_x_n','gyr_y_n','gyr_z_n','gyr_x_r','gyr_y_r','gyr_z_r']\n",
    "y = 'gyr_x_n'\n",
    "preprocesses = ['filter','pca','sax'] # write in order\n",
    "model = 'k_means'\n",
    "number_cluster = 5\n",
    "data= user_input(file_type, file_name,features, preprocesses, model, number_cluster,y)\n",
    "data.head()"
   ]
  },
  {
   "cell_type": "code",
   "execution_count": null,
   "metadata": {},
   "outputs": [],
   "source": [
    "# user input_3\n",
    "file_type = 'unlabeled' \n",
    "file_name = '063-COMBINED-2022-11-12-8-58-33-1668280845-v1.4.3+lucina-buzz.csv'\n",
    "features = ['acc_x_n','acc_y_n','acc_z_n']\n",
    "y ='acc_x_n'\n",
    "preprocesses = ['filter','sax'] # write in order\n",
    "model = 'k_means'\n",
    "number_cluster = 5\n",
    "data= user_input(file_type, file_name,features, preprocesses, model, number_cluster,y)\n",
    "data.head()"
   ]
  },
  {
   "cell_type": "code",
   "execution_count": null,
   "metadata": {},
   "outputs": [],
   "source": [
    "# user input_3\n",
    "file_type = 'unlabeled' \n",
    "file_name = '063-COMBINED-2022-11-12-8-58-33-1668280845-v1.4.3+lucina-buzz.csv'\n",
    "features = ['acc_x_n','acc_y_n','acc_z_n']\n",
    "y = 'acc_x_n'\n",
    "preprocesses = ['filter','pca','sax'] # write in order\n",
    "model = 'k_means'\n",
    "number_cluster = 5\n",
    "data= user_input(file_type, file_name,features, preprocesses, model, number_cluster,y)\n",
    "data.head()"
   ]
  },
  {
   "cell_type": "code",
   "execution_count": null,
   "metadata": {},
   "outputs": [],
   "source": []
  }
 ],
 "metadata": {
  "kernelspec": {
   "display_name": "sw_env",
   "language": "python",
   "name": "python3"
  },
  "language_info": {
   "codemirror_mode": {
    "name": "ipython",
    "version": 3
   },
   "file_extension": ".py",
   "mimetype": "text/x-python",
   "name": "python",
   "nbconvert_exporter": "python",
   "pygments_lexer": "ipython3",
   "version": "3.7.15"
  },
  "orig_nbformat": 4,
  "vscode": {
   "interpreter": {
    "hash": "80469b009b03b21313f5ee35aece3e3a0c278cdf9fc0980330a7eea095c5f432"
   }
  }
 },
 "nbformat": 4,
 "nbformat_minor": 2
}
